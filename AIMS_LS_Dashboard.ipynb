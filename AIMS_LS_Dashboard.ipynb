{
 "cells": [
  {
   "cell_type": "markdown",
   "id": "eee815fd",
   "metadata": {},
   "source": [
    "# Úvodné Importy"
   ]
  },
  {
   "cell_type": "code",
   "execution_count": 24,
   "id": "c07071bd",
   "metadata": {
    "ExecuteTime": {
     "end_time": "2023-03-15T01:28:26.616203Z",
     "start_time": "2023-03-15T01:28:26.587942Z"
    }
   },
   "outputs": [
    {
     "data": {
      "text/html": [
       "<style>.container { width:98% !important; }</style>"
      ],
      "text/plain": [
       "<IPython.core.display.HTML object>"
      ]
     },
     "metadata": {},
     "output_type": "display_data"
    }
   ],
   "source": [
    "# Zvacsenie okien prostredia - Odstránit v produkcii\n",
    "\n",
    "from IPython.core.display import display, HTML\n",
    "\n",
    "display(HTML(\"<style>.container { width:98% !important; }</style>\"))"
   ]
  },
  {
   "cell_type": "code",
   "execution_count": 25,
   "id": "726b48b8",
   "metadata": {
    "ExecuteTime": {
     "end_time": "2023-03-15T01:28:31.253223Z",
     "start_time": "2023-03-15T01:28:26.621340Z"
    }
   },
   "outputs": [],
   "source": [
    "# Import vsetkych prerequisities\n",
    "from requirements import *\n",
    "\n",
    "# Import vlastnej kniznice\n",
    "from AIMS_LS_library import *"
   ]
  },
  {
   "cell_type": "markdown",
   "id": "d288c882",
   "metadata": {},
   "source": [
    "# Nastanenie grafiky a iných\n",
    "Načítaním z config súborov"
   ]
  },
  {
   "cell_type": "code",
   "execution_count": 26,
   "id": "c5974e6e",
   "metadata": {
    "ExecuteTime": {
     "end_time": "2023-03-15T01:28:31.283222Z",
     "start_time": "2023-03-15T01:28:31.255223Z"
    }
   },
   "outputs": [],
   "source": [
    "# Nastavenie farebnosti\n",
    "from config.colours import *\n",
    "\n",
    "# Nastavenie fontov\n",
    "from config.fonts import *\n",
    "\n",
    "# Nastavenie velkosti\n",
    "from config.sizes import *\n",
    "\n",
    "# Nastavenie Casovania\n",
    "from config.timings import *"
   ]
  },
  {
   "cell_type": "markdown",
   "id": "23dcc1bf",
   "metadata": {},
   "source": [
    "# Startovacie nastavenia"
   ]
  },
  {
   "cell_type": "code",
   "execution_count": 27,
   "id": "f6c4d648",
   "metadata": {
    "ExecuteTime": {
     "end_time": "2023-03-15T01:28:31.314227Z",
     "start_time": "2023-03-15T01:28:31.287228Z"
    }
   },
   "outputs": [],
   "source": [
    "plt.rcParams[\"ytick.right\"] = plt.rcParams[\"ytick.labelright\"] = True\n",
    "plt.rcParams[\"ytick.left\"] = plt.rcParams[\"ytick.labelleft\"] = False\n",
    "plt.rcParams.update({\"font.size\": 50})\n",
    "\n",
    "plt.rcParams.update({\n",
    "    \"figure.facecolor\": (1, 1, 1, 0),\n",
    "    \"axes.facecolor\": (1, 1, 1, 0),\n",
    "    \"savefig.facecolor\": (1, 1, 1, 0),\n",
    "})\n",
    "\n",
    "plt.rcParams[\"text.color\"] = text_colour\n",
    "plt.rcParams[\"axes.labelcolor\"] = text_colour\n",
    "plt.rcParams[\"xtick.color\"] = text_colour\n",
    "plt.rcParams[\"ytick.color\"] = text_colour"
   ]
  },
  {
   "cell_type": "markdown",
   "id": "87d1796f",
   "metadata": {},
   "source": [
    "# Vytvorenie DASH prostredia"
   ]
  },
  {
   "cell_type": "code",
   "execution_count": 28,
   "id": "96b9733e",
   "metadata": {
    "ExecuteTime": {
     "end_time": "2023-03-15T01:28:31.359224Z",
     "start_time": "2023-03-15T01:28:31.321225Z"
    }
   },
   "outputs": [],
   "source": [
    "app = dash.Dash(__name__, external_stylesheets=[dbc.themes.BOOTSTRAP])"
   ]
  },
  {
   "cell_type": "markdown",
   "id": "0989bb11",
   "metadata": {},
   "source": [
    "# Vytvorenie blokov\n",
    "\n",
    "Predpŕiprava layout-u pre DASH, kde sa povie kde sa čo nachádza a aké parametre (veľkosť, farbu, a pod.) to má mať."
   ]
  },
  {
   "cell_type": "code",
   "execution_count": 29,
   "id": "367f0f10",
   "metadata": {
    "ExecuteTime": {
     "end_time": "2023-03-15T01:28:31.374224Z",
     "start_time": "2023-03-15T01:28:31.363224Z"
    }
   },
   "outputs": [],
   "source": [
    "# 0 - 0\n",
    "\n",
    "blok_0_0 = [\n",
    "    dcc.Graph(id=\"graph_0_0\",\n",
    "              responsive=True,\n",
    "              style={\n",
    "                  \"height\": \"30vh\",\n",
    "                  \"width\": \"60vw\"\n",
    "              })\n",
    "]"
   ]
  },
  {
   "cell_type": "code",
   "execution_count": 30,
   "id": "6e56cfdf",
   "metadata": {
    "ExecuteTime": {
     "end_time": "2023-03-15T01:28:31.390224Z",
     "start_time": "2023-03-15T01:28:31.379228Z"
    }
   },
   "outputs": [],
   "source": [
    "# 1 - 0\n",
    "\n",
    "blok_1_0 = [\n",
    "    html.Img(id=\"graph_1_0\", style={\"height\": \"26vh\"}),\n",
    "    html.P(id=\"text_1_0\",\n",
    "           style={\n",
    "               \"width\": \"100%\",\n",
    "               \"height\": \"4vh\",\n",
    "               \"background-color\": blok_pozadie,\n",
    "               \"color\": text_colour,\n",
    "               \"fontSize\": text_velkost,\n",
    "               \"textAlign\": \"center\",\n",
    "               \"family\": graf_text_font\n",
    "           })\n",
    "]"
   ]
  },
  {
   "cell_type": "code",
   "execution_count": 31,
   "id": "331f15e8",
   "metadata": {
    "ExecuteTime": {
     "end_time": "2023-03-15T01:28:31.406226Z",
     "start_time": "2023-03-15T01:28:31.398224Z"
    }
   },
   "outputs": [],
   "source": [
    "# 0 - 1\n",
    "\n",
    "blok_0_1 = [\n",
    "    html.Img(id=\"graph_0_1\", style={\"height\": \"26vh\"}),\n",
    "    html.P(id=\"text_0_1\",\n",
    "           style={\n",
    "               \"width\": \"100%\",\n",
    "               \"height\": \"4vh\",\n",
    "               \"background-color\": blok_pozadie,\n",
    "               \"color\": text_colour,\n",
    "               \"fontSize\": text_velkost,\n",
    "               \"textAlign\": \"center\",\n",
    "               \"family\": graf_text_font\n",
    "           })\n",
    "]"
   ]
  },
  {
   "cell_type": "code",
   "execution_count": 32,
   "id": "f2bdaf7a",
   "metadata": {
    "ExecuteTime": {
     "end_time": "2023-03-15T01:28:31.421224Z",
     "start_time": "2023-03-15T01:28:31.412224Z"
    }
   },
   "outputs": [],
   "source": [
    "# 1 - 1\n",
    "\n",
    "blok_1_1 = [\n",
    "    html.Img(id=\"img_1_1\", style={\"height\": \"26vh\"}),\n",
    "    html.Img(id=\"graph_1_1\", style={\"height\": \"26vh\"}),\n",
    "    html.P(id=\"text_1_1\",\n",
    "           style={\n",
    "               \"width\": \"100%\",\n",
    "               \"height\": \"4vh\",\n",
    "               \"background-color\": blok_pozadie,\n",
    "               \"color\": text_colour,\n",
    "               \"fontSize\": text_velkost,\n",
    "               \"textAlign\": \"center\",\n",
    "               \"family\": graf_text_font\n",
    "           })\n",
    "]"
   ]
  },
  {
   "cell_type": "code",
   "execution_count": 33,
   "id": "7370c618",
   "metadata": {
    "ExecuteTime": {
     "end_time": "2023-03-15T01:28:31.437224Z",
     "start_time": "2023-03-15T01:28:31.424224Z"
    }
   },
   "outputs": [],
   "source": [
    "# 2 - 1\n",
    "\n",
    "blok_2_1 = [\n",
    "    html.Img(id=\"img_2_1\",\n",
    "             style={\n",
    "                 \"height\": \"26vh\",\n",
    "                 \"textAlign\": \"center\",\n",
    "                 \"marginLeft\": \"auto\",\n",
    "                 \"marginRight\": \"auto\"\n",
    "             }),\n",
    "    html.P(id=\"text_2_1\",\n",
    "           style={\n",
    "               \"width\": \"30vw\",\n",
    "               \"height\": \"4vh\",\n",
    "               \"background-color\": blok_pozadie,\n",
    "               \"color\": text_colour,\n",
    "               \"fontSize\": text_velkost,\n",
    "               \"textAlign\": \"center\",\n",
    "               \"family\": graf_text_font\n",
    "           })\n",
    "]"
   ]
  },
  {
   "cell_type": "code",
   "execution_count": 34,
   "id": "ab755295",
   "metadata": {
    "ExecuteTime": {
     "end_time": "2023-03-15T01:28:31.453225Z",
     "start_time": "2023-03-15T01:28:31.440226Z"
    }
   },
   "outputs": [],
   "source": [
    "# 0 - 2\n",
    "\n",
    "blok_0_2 = [\n",
    "    html.Img(id=\"img_0_2_0\",\n",
    "             style={\n",
    "                 \"width\": \"15vw\",\n",
    "                 \"height\": \"26vh\",\n",
    "                 \"background-color\": blok_pozadie\n",
    "             }),\n",
    "    html.Img(id=\"img_0_2_1\",\n",
    "             style={\n",
    "                 \"width\": \"15vw\",\n",
    "                 \"height\": \"26vh\",\n",
    "                 \"background-color\": blok_pozadie\n",
    "             }),\n",
    "    html.P(id=\"text_0_2\",\n",
    "           style={\n",
    "               \"width\": \"30vw\",\n",
    "               \"height\": \"4vh\",\n",
    "               \"background-color\": blok_pozadie,\n",
    "               \"color\": text_colour,\n",
    "               \"fontSize\": text_velkost,\n",
    "               \"textAlign\": \"center\",\n",
    "               \"family\": graf_text_font\n",
    "           })\n",
    "]"
   ]
  },
  {
   "cell_type": "code",
   "execution_count": 35,
   "id": "686481ae",
   "metadata": {
    "ExecuteTime": {
     "end_time": "2023-03-15T01:28:31.468223Z",
     "start_time": "2023-03-15T01:28:31.456225Z"
    }
   },
   "outputs": [],
   "source": [
    "# 1 - 2\n",
    "\n",
    "blok_1_2 = [\n",
    "    html.Img(id=\"img_1_2_0\",\n",
    "             style={\n",
    "                 \"width\": \"15vw\",\n",
    "                 \"height\": \"26vh\",\n",
    "                 \"background-color\": blok_pozadie\n",
    "             }),\n",
    "    html.Img(id=\"img_1_2_1\",\n",
    "             style={\n",
    "                 \"width\": \"15vw\",\n",
    "                 \"height\": \"26vh\",\n",
    "                 \"background-color\": blok_pozadie\n",
    "             }),\n",
    "    html.P(id=\"text_1_2\",\n",
    "           style={\n",
    "               \"width\": \"30vw\",\n",
    "               \"height\": \"4vh\",\n",
    "               \"background-color\": blok_pozadie,\n",
    "               \"color\": text_colour,\n",
    "               \"fontSize\": text_velkost,\n",
    "               \"textAlign\": \"center\",\n",
    "               \"family\": graf_text_font\n",
    "           })\n",
    "]"
   ]
  },
  {
   "cell_type": "code",
   "execution_count": 36,
   "id": "39fb1ff0",
   "metadata": {
    "ExecuteTime": {
     "end_time": "2023-03-15T01:28:31.484223Z",
     "start_time": "2023-03-15T01:28:31.471223Z"
    }
   },
   "outputs": [],
   "source": [
    "# 2 - 2\n",
    "\n",
    "blok_2_2 = [\n",
    "    html.Img(id=\"img_2_2_0\",\n",
    "             style={\n",
    "                 \"width\": \"15vw\",\n",
    "                 \"height\": \"26vh\",\n",
    "                 \"textAlign\": \"center\"\n",
    "             }),\n",
    "    html.Img(id=\"img_2_2_1\",\n",
    "             style={\n",
    "                 \"width\": \"15vw\",\n",
    "                 \"height\": \"26vh\",\n",
    "                 \"textAlign\": \"center\"\n",
    "             }),\n",
    "    html.P(id=\"text_2_2\",\n",
    "           style={\n",
    "               \"width\": \"100%\",\n",
    "               \"height\": \"4vh\",\n",
    "               \"background-color\": blok_pozadie,\n",
    "               \"color\": text_colour,\n",
    "               \"fontSize\": text_velkost,\n",
    "               \"textAlign\": \"center\",\n",
    "               \"family\": graf_text_font\n",
    "           })\n",
    "]"
   ]
  },
  {
   "cell_type": "markdown",
   "id": "137a5a1a",
   "metadata": {},
   "source": [
    "# Spustenie DASH aplikácie\n",
    "Bloky sa pushnu do DASH-u. Taktiež sa tomu nastavia vlastnosti ako poloha, veľkosť, farebnosť a pod."
   ]
  },
  {
   "cell_type": "code",
   "execution_count": 55,
   "id": "8ce52947",
   "metadata": {
    "ExecuteTime": {
     "end_time": "2023-03-15T01:28:31.515222Z",
     "start_time": "2023-03-15T01:28:31.489226Z"
    }
   },
   "outputs": [],
   "source": [
    "app.layout = html.Div([\n",
    "    html.Div([\n",
    "                  html.Div(id='latest-timestamp', style={\"padding\": \"20px\"}),\n",
    "                  dcc.Interval(\n",
    "                  id='interval-component',\n",
    "                  interval=5 * 1000,\n",
    "                  # n_intervals=0\n",
    "                  )\n",
    "    ]),\n",
    "    html.Div([                     \n",
    "                          \n",
    "                html.Div([\n",
    "                    html.H1(\"INFO PAGE\"),\n",
    "                    dcc.Graph(id='graph', style= {'display': 'block'}),\n",
    "                    html.Label([\n",
    "                          \"colorscale\",\n",
    "                          ]),\n",
    "                    dcc.Dropdown(\n",
    "                         id='colorscale-dropdown', clearable=False,\n",
    "                         value='plasma', options=[\n",
    "                          {'label': c, 'value': c}\n",
    "                        for c in px.colors.named_colorscales()\n",
    "                         ]),\n",
    "\n",
    "                        \n",
    "                   ],id='x',style={\"width\": \"20%\"}),\n",
    "              \n",
    "      ], id='page-info', style= {'display': 'block', \n",
    "                             # \"background\": uplne_pozadie,\n",
    "                               \"height\": \"100vh\",\n",
    "                                \"width\": \"100vw\"}),\n",
    "        \n",
    "    html.Div([                     \n",
    "                          \n",
    "                html.Div([\n",
    "                    html.H1(\"VIDEO PAGE\"),\n",
    "                    dcc.Graph(id='graph', style= {'display': 'block'}),\n",
    "                    html.Label([\n",
    "                          \"colorscale\",\n",
    "                          ]),\n",
    "                    dcc.Dropdown(\n",
    "                         id='colorscale-dropdown', clearable=False,\n",
    "                         value='plasma', options=[\n",
    "                          {'label': c, 'value': c}\n",
    "                        for c in px.colors.named_colorscales()\n",
    "                         ]),\n",
    "\n",
    "                        \n",
    "                   ],id='x',style={\"width\": \"20%\"}),\n",
    "              \n",
    "      ], id='page-video', style= {'display': 'block', \n",
    "                             # \"background\": uplne_pozadie,\n",
    "                               \"height\": \"100vh\",\n",
    "                                \"width\": \"100vw\"}),\n",
    "        \n",
    "        #dcc.Interval(\n",
    "        #    id='interval-component',\n",
    "        #    interval=Dash_Interval,  # in milliseconds\n",
    "        #    n_intervals=0),\n",
    "        #dbc.Row(style={\"height\": \"2.5vh\"}),\n",
    "    html.Div([\n",
    "        dbc.Row(\n",
    "            [\n",
    "                dbc.Col(\n",
    "                    html.Div(blok_0_0,\n",
    "                             style={\n",
    "                                 \"background-color\": blok_pozadie,\n",
    "                                 \"height\": \"30vh\",\n",
    "                                 \"width\": \"65vw\"\n",
    "                             }),  # \" 0 - 0 \", \n",
    "                    align=\"center\",\n",
    "                    width=8,\n",
    "                ),\n",
    "                dbc.Col(\n",
    "                    html.Div(blok_1_0,\n",
    "                             style={\n",
    "                                 \"background-color\": blok_pozadie,\n",
    "                                 \"height\": \"30vh\",\n",
    "                                 \"width\": \"30vw\"\n",
    "                             }),  # \" 1 - 0 \", \n",
    "                    align=\"center\",\n",
    "                    width=4,\n",
    "                ),\n",
    "            ],\n",
    "            align=\"center\",\n",
    "            justify=\"evenly\",\n",
    "        ),\n",
    "        dbc.Row(style={\"height\": \"2.5vh\"}),\n",
    "        dbc.Row(\n",
    "            [\n",
    "                dbc.Col(\n",
    "                    html.Div(blok_0_1,\n",
    "                             style={\n",
    "                                 \"background-color\": blok_pozadie,\n",
    "                                 \"height\": \"30vh\",\n",
    "                                 \"width\": \"30vw\"\n",
    "                             }),  # \" 0 - 1 \", \n",
    "                    align=\"center\",\n",
    "                    width=4,\n",
    "                ),\n",
    "                dbc.Col(\n",
    "                    html.Div(blok_1_1,\n",
    "                             style={\n",
    "                                 \"background-color\": blok_pozadie,\n",
    "                                 \"height\": \"30vh\",\n",
    "                                 \"width\": \"30vw\"\n",
    "                             }),  # \" 1 - 1 \", \n",
    "                    align=\"center\",\n",
    "                    width=4,\n",
    "                ),\n",
    "                dbc.Col(\n",
    "                    html.Div(blok_2_1,\n",
    "                             style={\n",
    "                                 \"background-color\": blok_pozadie,\n",
    "                                 \"height\": \"30vh\",\n",
    "                                 \"width\": \"30vw\"\n",
    "                             }),  # \" 2 - 1 \", \n",
    "                    align=\"center\",\n",
    "                    width=4,\n",
    "                ),\n",
    "            ],\n",
    "            align=\"center\",\n",
    "            justify=\"evenly\",\n",
    "        ),\n",
    "        dbc.Row(style={\"height\": \"2.5vh\"}),\n",
    "        dbc.Row(\n",
    "            [\n",
    "                dbc.Col(\n",
    "                    html.Div(blok_0_2,\n",
    "                             style={\n",
    "                                 \"background-color\": blok_pozadie,\n",
    "                                 \"height\": \"30vh\",\n",
    "                                 \"width\": \"30vw\"\n",
    "                             }),  #\" 0 - 2 \", \n",
    "                    align=\"center\",\n",
    "                    width=4,\n",
    "                ),\n",
    "                dbc.Col(\n",
    "                    html.Div(blok_1_2,\n",
    "                             style={\n",
    "                                 \"background-color\": blok_pozadie,\n",
    "                                 \"height\": \"30vh\",\n",
    "                                 \"width\": \"30vw\"\n",
    "                             }),  # \" 1 - 2 \", \n",
    "                    align=\"center\",\n",
    "                    width=4,\n",
    "                ),\n",
    "                dbc.Col(\n",
    "                    html.Div(blok_2_2,\n",
    "                             style={\n",
    "                                 \"background-color\": blok_pozadie,\n",
    "                                 \"height\": \"30vh\",\n",
    "                                 \"width\": \"30vw\"\n",
    "                             }),  # \" 2 - 2 \", \n",
    "                    align=\"center\",\n",
    "                    width=4,\n",
    "                ),\n",
    "            ],\n",
    "            align=\"center\",\n",
    "            justify=\"evenly\",\n",
    "        )\n",
    "    ], id='page-main')\n",
    "    ],id='container',\n",
    "    style={\n",
    "        \"background\": uplne_pozadie,\n",
    "        \"height\": \"100vh\",\n",
    "        \"width\": \"100vw\"\n",
    "    })"
   ]
  },
  {
   "cell_type": "code",
   "execution_count": 56,
   "id": "dd7c7647",
   "metadata": {},
   "outputs": [],
   "source": [
    "@app.callback(\n",
    "    [Output(component_id='latest-timestamp', component_property='children'), \n",
    "      Output(component_id='page-main', component_property='style'),\n",
    "      Output(component_id='page-info', component_property='style'),\n",
    "     Output(component_id='page-video', component_property='style'),\n",
    "      Output('interval-component', 'n_intervals'),\n",
    "     ],\n",
    "    [Input('interval-component', 'n_intervals')]\n",
    ")\n",
    "def update_timestamp(n):\n",
    " \n",
    "    if n%3 == 1:\n",
    "        return [html.Span(f\"{n}counts - active page :main Last updated: {datetime.datetime.now()}\")], {'display': 'block'}, {'display': 'none'}, {'display': 'none'},n\n",
    "    elif n%3 == 2:\n",
    "        return [html.Span(f\"{n}counts - active page :info Last updated: {datetime.datetime.now()}\")], {'display': 'none'}, {'display': 'block'}, {'display': 'none'},n\n",
    "    else :\n",
    "        return [html.Span(f\"{n}counts - active page :video Last updated: {datetime.datetime.now()}\")], {'display': 'none'}, {'display': 'none'}, {'display': 'block'},n  "
   ]
  },
  {
   "cell_type": "markdown",
   "id": "b62c422e",
   "metadata": {},
   "source": [
    "# Delené funkcie\n",
    "Vytvorenie callback-u na obnovu DASH-u. Funkcie ktoré načítajú parquet a vytvoria grafiky, obrázky, grafy a texty. "
   ]
  },
  {
   "cell_type": "code",
   "execution_count": 39,
   "id": "fe4f5d2c",
   "metadata": {
    "ExecuteTime": {
     "end_time": "2023-03-15T01:28:31.546222Z",
     "start_time": "2023-03-15T01:28:31.518222Z"
    }
   },
   "outputs": [],
   "source": [
    "# 0 - 0 DEMAND\n",
    "\n",
    "\n",
    "@app.callback([\n",
    "    Output(\"graph_0_0\", 'figure'),\n",
    "], Input('interval-component', 'n_intervals'))\n",
    "def update_0_0(n):\n",
    "    dataframe = pd.read_parquet(\"dataframes/dataframe.parquet.gzip\")\n",
    "\n",
    "    fig_0_0 = go.Figure()\n",
    "\n",
    "    fig_0_0.layout = {\n",
    "        \"width\": 580,\n",
    "        \"height\": 315,\n",
    "        \"title\": {\n",
    "            \"text\": \"Meranie NEUTRON\",\n",
    "            \"y\": 0.95,\n",
    "            \"x\": 0.5,\n",
    "            \"xanchor\": \"center\",\n",
    "            \"yanchor\": \"top\",\n",
    "            \"font\": {\n",
    "                \"color\": graf_nazov,\n",
    "                \"size\": graf_nazov_velkost,\n",
    "                \"family\": graf_text_font\n",
    "            }\n",
    "        },\n",
    "        \"template\": \"simple_white\",\n",
    "        \"plot_bgcolor\": blok_pozadie,\n",
    "        \"paper_bgcolor\": blok_pozadie,\n",
    "        \"margin\": {\n",
    "            \"l\": 20,\n",
    "            \"r\": 20,\n",
    "            \"t\": 20,\n",
    "            \"b\": 20\n",
    "        },\n",
    "        \"showlegend\": True,\n",
    "        \"legend\": {\n",
    "            \"x\": 0,\n",
    "            \"y\": 1,\n",
    "            \"bgcolor\": graf_legend_pozadie,\n",
    "            \"bordercolor\": graf_legend_okraj,\n",
    "            \"borderwidth\": 1,\n",
    "            \"font\": {\n",
    "                \"family\": graf_text_font,\n",
    "                \"size\": graf_legenda_velkost,\n",
    "                \"color\": graf_legend_text\n",
    "            }\n",
    "        },\n",
    "        \"xaxis\": {\n",
    "            \"color\": graf_os_text,\n",
    "            \"linecolor\": graf_os,\n",
    "            \"title\": \"Čas\",\n",
    "            \"ticklen\": 5,\n",
    "            \"zeroline\": False,\n",
    "            \"rangeslider\": {\n",
    "                \"visible\": False\n",
    "            },\n",
    "            \"tickfont\": {\n",
    "                \"color\": graf_os,\n",
    "                \"size\": graf_os_velkost,\n",
    "                \"family\": graf_text_font\n",
    "            },\n",
    "            \"titlefont\": {\n",
    "                \"color\": graf_os,\n",
    "                \"size\": graf_os_velkost,\n",
    "                \"family\": graf_text_font\n",
    "            }\n",
    "        },\n",
    "        \"yaxis\": {\n",
    "            \"color\": graf_os_text,\n",
    "            \"linecolor\": graf_os,\n",
    "            \"title\": \"Hustota neutrónov\",\n",
    "            \"ticklen\": 5,\n",
    "            \"zeroline\": False,\n",
    "            \"tickfont\": {\n",
    "                \"color\": graf_os,\n",
    "                \"size\": graf_os_velkost,\n",
    "                \"family\": graf_text_font\n",
    "            },\n",
    "            \"titlefont\": {\n",
    "                \"color\": graf_os,\n",
    "                \"size\": graf_os_velkost,\n",
    "                \"family\": graf_text_font\n",
    "            }\n",
    "        },\n",
    "    }\n",
    "\n",
    "    fig_0_0.add_trace(\n",
    "        go.Scatter(\n",
    "            x=dataframe[\"Time\"],\n",
    "            y=dataframe[\"Neutron_monitor\"],\n",
    "            line={\n",
    "                \"color\": graf_seria1,\n",
    "                \"width\": 1,\n",
    "                \"dash\": \"solid\",\n",
    "            },\n",
    "            mode=\"lines\",\n",
    "            name=\"NEUTRON\",\n",
    "            marker={\"color\": graf_seria1},\n",
    "        ))\n",
    "\n",
    "    return [fig_0_0]"
   ]
  },
  {
   "cell_type": "code",
   "execution_count": 40,
   "id": "e0582c27",
   "metadata": {
    "ExecuteTime": {
     "end_time": "2023-03-15T01:28:31.561222Z",
     "start_time": "2023-03-15T01:28:31.549226Z"
    }
   },
   "outputs": [],
   "source": [
    "# 1 - 0 DEMAND\n",
    "\n",
    "\n",
    "@app.callback([\n",
    "    Output(\"graph_1_0\", 'src'),\n",
    "    Output(\"text_1_0\", 'children'),\n",
    "], Input('interval-component', 'n_intervals'))\n",
    "def update_1_0(n):\n",
    "\n",
    "    dataframe = pd.read_parquet(\"dataframes/dataframe.parquet.gzip\")\n",
    "    Boltek_EF = np.array(dataframe[\"Boltek_EF\"])[n]  #Nahradiť n za -1\n",
    "    Boltek_EF = np.round(Boltek_EF, Boltek_EF_round)\n",
    "\n",
    "    fig, ax = plt.subplots(figsize=(8.18, 22.88))\n",
    "    bar = ax.bar(\" \", Boltek_EF, width=0.5, align=\"edge\")\n",
    "    ax.set_ylim([0, 250_000])\n",
    "    ax.spines[\"top\"].set_visible(False)\n",
    "    ax.spines[\"right\"].set_visible(False)\n",
    "    ax.spines[\"bottom\"].set_visible(False)\n",
    "    ax.spines[\"left\"].set_visible(False)\n",
    "    ax.get_xaxis().set_visible(False)\n",
    "    plt.locator_params(axis=\"y\", nbins=5)\n",
    "    ax.yaxis.set_minor_locator(AutoMinorLocator(10))\n",
    "    ax.tick_params(which=\"major\", length=100, width=20, direction=\"inout\")\n",
    "    ax.tick_params(which=\"minor\", length=25, width=5, direction=\"in\")\n",
    "    bar = gradientbars(bar)\n",
    "    plt.close()\n",
    "\n",
    "    #graph_1_0 = fig2img(fig)\n",
    "    graph_1_0 = fig_to_uri(fig)\n",
    "    text_1_0 = f\" [{Boltek_EF:_} V] \"\n",
    "\n",
    "    return [graph_1_0, text_1_0]"
   ]
  },
  {
   "cell_type": "code",
   "execution_count": 41,
   "id": "b3675ccc",
   "metadata": {
    "ExecuteTime": {
     "end_time": "2023-03-15T01:28:31.577224Z",
     "start_time": "2023-03-15T01:28:31.564225Z"
    },
    "run_control": {
     "marked": false
    }
   },
   "outputs": [],
   "source": [
    "# 0 - 1 DEMAND\n",
    "\n",
    "\n",
    "@app.callback([\n",
    "    Output(\"graph_0_1\", 'src'),\n",
    "    Output(\"text_0_1\", 'children'),\n",
    "], Input('interval-component', 'n_intervals'))\n",
    "def update_0_1(n):\n",
    "\n",
    "    dataframe = pd.read_parquet(\"dataframes/dataframe.parquet.gzip\")\n",
    "    Temperature = np.array(dataframe[\"Temperature\"])[n]  #Nahradiť n za -1\n",
    "    Temperature = np.round(Temperature, Temperature_round)\n",
    "\n",
    "    fig, ax = plt.subplots(figsize=(8.18, 22.88))\n",
    "    bar = ax.bar(\" \", Temperature, width=0.5, align=\"edge\")\n",
    "    ax.set_ylim([-50, 50])\n",
    "    ax.spines[\"top\"].set_visible(False)\n",
    "    ax.spines[\"right\"].set_visible(False)\n",
    "    ax.spines[\"bottom\"].set_visible(False)\n",
    "    ax.spines[\"left\"].set_visible(False)\n",
    "    ax.get_xaxis().set_visible(False)\n",
    "    plt.locator_params(axis=\"y\", nbins=5)\n",
    "    ax.yaxis.set_minor_locator(AutoMinorLocator(10))\n",
    "    ax.tick_params(which=\"major\", length=100, width=20, direction=\"inout\")\n",
    "    ax.tick_params(which=\"minor\", length=25, width=5, direction=\"in\")\n",
    "    bar = gradientbars(bar)\n",
    "    plt.close()\n",
    "\n",
    "    graph_0_1 = fig2img(fig)\n",
    "    text_0_1 = f\" [{Temperature:_} °C] \"\n",
    "\n",
    "    return [graph_0_1, text_0_1]"
   ]
  },
  {
   "cell_type": "code",
   "execution_count": 42,
   "id": "db3be9ef",
   "metadata": {
    "ExecuteTime": {
     "end_time": "2023-03-15T01:28:31.593225Z",
     "start_time": "2023-03-15T01:28:31.580225Z"
    },
    "run_control": {
     "marked": false
    }
   },
   "outputs": [],
   "source": [
    "# 1 - 1 DEMAND\n",
    "\n",
    "\n",
    "@app.callback([\n",
    "    Output(\"img_1_1\", 'src'),\n",
    "    Output(\"graph_1_1\", 'src'),\n",
    "    Output(\"text_1_1\", 'children'),\n",
    "], Input('interval-component', 'n_intervals'))\n",
    "def update_1_1(n):\n",
    "\n",
    "    dataframe = pd.read_parquet(\"dataframes/dataframe.parquet.gzip\")\n",
    "    Wind_speed = np.array(dataframe[\"Wind_speed\"])[n]  #Nahradiť n za -1\n",
    "    Wind_speed = np.round(Wind_speed, Wind_speed_round)\n",
    "\n",
    "    fig, ax = plt.subplots(figsize=(8.18, 22.88))\n",
    "    bar = ax.bar(\" \", Wind_speed, width=0.5, align=\"edge\")\n",
    "    ax.set_ylim([0, 100])\n",
    "    ax.spines[\"top\"].set_visible(False)\n",
    "    ax.spines[\"right\"].set_visible(False)\n",
    "    ax.spines[\"bottom\"].set_visible(False)\n",
    "    ax.spines[\"left\"].set_visible(False)\n",
    "    ax.get_xaxis().set_visible(False)\n",
    "    plt.locator_params(axis=\"y\", nbins=5)\n",
    "    ax.yaxis.set_minor_locator(AutoMinorLocator(10))\n",
    "    ax.tick_params(which=\"major\", length=100, width=20, direction=\"inout\")\n",
    "    ax.tick_params(which=\"minor\", length=25, width=5, direction=\"in\")\n",
    "    bar = gradientbars(bar)\n",
    "    plt.close()\n",
    "    graph_1_1 = fig2img(fig)\n",
    "\n",
    "    if -999 < Wind_speed <= 5.5:\n",
    "        img_1_1 = Image.open(\"assets/veterny_tunel_0.png\")\n",
    "    elif 5.5 < Wind_speed <= 11:\n",
    "        img_1_1 = Image.open(\"assets/veterny_tunel_1.png\")\n",
    "    elif 11 < Wind_speed <= 16:\n",
    "        img_1_1 = Image.open(\"assets/veterny_tunel_2.png\")\n",
    "    elif 16 < Wind_speed <= 22:\n",
    "        img_1_1 = Image.open(\"assets/veterny_tunel_3.png\")\n",
    "    else:\n",
    "        img_1_1 = Image.open(\"assets/veterny_tunel_4.png\")\n",
    "\n",
    "    text_1_1 = f\" [ {Wind_speed:_} km/h | {Wind_speed:_} m/s | {Wind_speed:_} uzol ] \"\n",
    "\n",
    "    return [img_1_1, graph_1_1, text_1_1]"
   ]
  },
  {
   "cell_type": "code",
   "execution_count": 43,
   "id": "d0a64b3a",
   "metadata": {
    "ExecuteTime": {
     "end_time": "2023-03-15T01:28:31.624221Z",
     "start_time": "2023-03-15T01:28:31.596225Z"
    }
   },
   "outputs": [],
   "source": [
    "# 2 - 1 DEMAND\n",
    "\n",
    "\n",
    "@app.callback([\n",
    "    Output(\"img_2_1\", 'src'),\n",
    "    Output(\"text_2_1\", 'children'),\n",
    "], Input('interval-component', 'n_intervals'))\n",
    "def update_2_1(n):\n",
    "\n",
    "    dataframe = pd.read_parquet(\"dataframes/dataframe.parquet.gzip\")\n",
    "    Wind_direction = np.array(\n",
    "        dataframe[\"Wind_direction\"])[n]  #Nahradiť n za -1\n",
    "    Wind_direction = np.round(Wind_direction, Wind_direction_round)\n",
    "\n",
    "    img_2_1 = Image.open(\"assets/Hora.png\")\n",
    "    draw = ImageDraw.Draw(img_2_1)\n",
    "    draw.polygon(\n",
    "        ((150, 130 - 60), (100, 130 + 60 * np.sin(np.radians(Wind_direction))),\n",
    "         (200, 130 + 60 * np.sin(np.radians(Wind_direction)))),\n",
    "        fill=\"red\",\n",
    "        outline=255)\n",
    "\n",
    "    Wind_direction_temp = int((Wind_direction / 22.5) + .5)\n",
    "    directions = [\n",
    "        \"N\", \"NNE\", \"NE\", \"ENE\", \"E\", \"ESE\", \"SE\", \"SSE\", \"S\", \"SSW\", \"SW\",\n",
    "        \"WSW\", \"W\", \"WNW\", \"NW\", \"NNW\"\n",
    "    ]\n",
    "    smery = [\"S\", \"SV\", \"V\", \"JV\", \"J\", \"JZ\", \"Z\", \"SZ\"]\n",
    "    Wind_direction_dir = directions[(Wind_direction_temp % 16)]\n",
    "    Wind_direction_smer = smery[(Wind_direction_temp % 8)]\n",
    "\n",
    "    text_2_1 = f\" [ {Wind_direction:_} ° | {Wind_direction_smer} | {Wind_direction_dir} ] \"\n",
    "\n",
    "    return [img_2_1, text_2_1]"
   ]
  },
  {
   "cell_type": "code",
   "execution_count": 44,
   "id": "314a70bd",
   "metadata": {
    "ExecuteTime": {
     "end_time": "2023-03-15T01:28:31.655221Z",
     "start_time": "2023-03-15T01:28:31.627224Z"
    }
   },
   "outputs": [],
   "source": [
    "# 0 - 2 DEMAND\n",
    "\n",
    "\n",
    "@app.callback([\n",
    "    Output(\"img_0_2_0\", 'src'),\n",
    "    Output(\"img_0_2_1\", 'src'),\n",
    "    Output(\"text_0_2\", 'children'),\n",
    "], Input('interval-component', 'n_intervals'))\n",
    "def update_0_2(n):\n",
    "\n",
    "    dataframe = pd.read_parquet(\"dataframes/dataframe.parquet.gzip\")\n",
    "    Pressure = np.array(dataframe[\"Pressure\"])[n]  #Nahradiť n za -1\n",
    "    Humidity = np.array(dataframe[\"Humidity\"])[n]  #Nahradiť n za -1\n",
    "    Pressure = np.round(Pressure, Pressure_round)\n",
    "    Humidity = np.round(Humidity, Humidity_round)\n",
    "\n",
    "    Pressure_angle = np.radians((Pressure - 100) * 60)\n",
    "    img_0_2_0 = Image.open(\"assets/Tlakomer.png\")\n",
    "    draw_0_2_0 = ImageDraw.Draw(img_0_2_0)\n",
    "    draw_0_2_0.polygon(((361 - 250 * np.cos(Pressure_angle),\n",
    "                         361 - 250 * np.sin(Pressure_angle)), (361 - 20, 365),\n",
    "                        (361 + 20, 355)),\n",
    "                       fill=\"white\",\n",
    "                       outline=255)\n",
    "\n",
    "    Humidity_angle = np.radians((Humidity - 25))\n",
    "    img_0_2_1 = Image.open(\"assets/Vlhkomer.png\")\n",
    "    draw_0_2_1 = ImageDraw.Draw(img_0_2_1)\n",
    "    draw_0_2_1.polygon(((361 - 250 * np.cos(Humidity_angle),\n",
    "                         361 - 250 * np.sin(Humidity_angle)), (361 - 20, 365),\n",
    "                        (361 + 20, 355)),\n",
    "                       fill=\"white\",\n",
    "                       outline=255)\n",
    "\n",
    "    text_0_2 = f\" [ {Pressure:_} Kps | {Humidity:_} %] \"\n",
    "    return [img_0_2_0, img_0_2_1, text_0_2]"
   ]
  },
  {
   "cell_type": "code",
   "execution_count": 45,
   "id": "82e258b4",
   "metadata": {
    "ExecuteTime": {
     "end_time": "2023-03-15T01:28:31.671223Z",
     "start_time": "2023-03-15T01:28:31.657223Z"
    }
   },
   "outputs": [],
   "source": [
    "# 1 - 2 DEMAND\n",
    "\n",
    "\n",
    "@app.callback([Output(\"text_1_2\", 'children')],\n",
    "              Input('interval-component', 'n_intervals'))\n",
    "def update_1_2(n):\n",
    "\n",
    "    dataframe = pd.read_parquet(\"dataframes/dataframe.parquet.gzip\")\n",
    "    Solar_radiation = np.array(\n",
    "        dataframe[\"Solar_radiation\"])[n]  #Nahradiť n za -1\n",
    "    Solar_radiation = np.round(Solar_radiation, Solar_radiation_round)\n",
    "\n",
    "    text_1_2 = f\" [ {Solar_radiation:_} W/m^2 ]    [ {Solar_radiation:_} W] \"\n",
    "\n",
    "    return [text_1_2]"
   ]
  },
  {
   "cell_type": "code",
   "execution_count": 46,
   "id": "733be3ed",
   "metadata": {
    "ExecuteTime": {
     "end_time": "2023-03-15T01:28:31.686222Z",
     "start_time": "2023-03-15T01:28:31.674225Z"
    },
    "run_control": {
     "marked": false
    }
   },
   "outputs": [],
   "source": [
    "# 2 - 2 TO Delete\n",
    "\n",
    "\n",
    "@app.callback([Output(\"text_2_2\", 'children')],\n",
    "              Input('interval-component', 'n_intervals'))\n",
    "def update_2_2(n):\n",
    "\n",
    "    dataframe = pd.read_parquet(\"dataframes/dataframe.parquet.gzip\")\n",
    "    Sevan = np.array(dataframe[\"Sevan\"])[n]  #Nahradiť n za -1\n",
    "    Sevan = np.round(Sevan, Sevan_round)\n",
    "\n",
    "    text_2_2 = f\" [ {Sevan:_}  castic/min] \"\n",
    "\n",
    "    return [text_2_2]"
   ]
  },
  {
   "cell_type": "markdown",
   "id": "66cee28e",
   "metadata": {},
   "source": [
    "# Spustenie DASH servera live"
   ]
  },
  {
   "cell_type": "code",
   "execution_count": null,
   "id": "45711c7e",
   "metadata": {
    "ExecuteTime": {
     "end_time": "2023-03-15T01:32:47.863680Z",
     "start_time": "2023-03-15T01:28:31.688223Z"
    }
   },
   "outputs": [
    {
     "name": "stdout",
     "output_type": "stream",
     "text": [
      "Dash is running on http://127.0.0.1:8050/\n",
      "\n",
      "Dash is running on http://127.0.0.1:8050/\n",
      "\n",
      " * Serving Flask app '__main__'\n",
      " * Debug mode: on\n"
     ]
    }
   ],
   "source": [
    "if __name__ == \"__main__\":\n",
    "    app.run_server(debug=True, use_reloader=False)"
   ]
  },
  {
   "cell_type": "code",
   "execution_count": null,
   "id": "06075d15",
   "metadata": {},
   "outputs": [],
   "source": []
  }
 ],
 "metadata": {
  "kernelspec": {
   "display_name": "Python 3 (ipykernel)",
   "language": "python",
   "name": "python3"
  },
  "language_info": {
   "codemirror_mode": {
    "name": "ipython",
    "version": 3
   },
   "file_extension": ".py",
   "mimetype": "text/x-python",
   "name": "python",
   "nbconvert_exporter": "python",
   "pygments_lexer": "ipython3",
   "version": "3.7.3"
  },
  "varInspector": {
   "cols": {
    "lenName": 16,
    "lenType": 16,
    "lenVar": 40
   },
   "kernels_config": {
    "python": {
     "delete_cmd_postfix": "",
     "delete_cmd_prefix": "del ",
     "library": "var_list.py",
     "varRefreshCmd": "print(var_dic_list())"
    },
    "r": {
     "delete_cmd_postfix": ") ",
     "delete_cmd_prefix": "rm(",
     "library": "var_list.r",
     "varRefreshCmd": "cat(var_dic_list()) "
    }
   },
   "position": {
    "height": "765.81px",
    "left": "867.847px",
    "right": "20px",
    "top": "120px",
    "width": "385.498px"
   },
   "types_to_exclude": [
    "module",
    "function",
    "builtin_function_or_method",
    "instance",
    "_Feature"
   ],
   "window_display": false
  }
 },
 "nbformat": 4,
 "nbformat_minor": 5
}
