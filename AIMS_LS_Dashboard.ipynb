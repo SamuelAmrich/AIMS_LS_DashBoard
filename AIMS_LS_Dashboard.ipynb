{
  "cells": [
    {
      "cell_type": "markdown",
      "id": "eee815fd",
      "metadata": {
        "id": "eee815fd"
      },
      "source": [
        "# Úvodné Importy"
      ]
    },
    {
      "cell_type": "code",
      "execution_count": null,
      "id": "c07071bd",
      "metadata": {
        "ExecuteTime": {
          "end_time": "2023-03-22T08:12:42.209095Z",
          "start_time": "2023-03-22T08:12:42.196068Z"
        },
        "id": "c07071bd"
      },
      "outputs": [],
      "source": [
        "# Zvacsenie okien prostredia - Odstránit v produkcii\n",
        "\n",
        "from IPython.core.display import display, HTML\n",
        "import datetime\n",
        "\n",
        "display(HTML(\"<style>.container { width:98% !important; }</style>\"))"
      ]
    },
    {
      "cell_type": "code",
      "execution_count": null,
      "id": "726b48b8",
      "metadata": {
        "ExecuteTime": {
          "end_time": "2023-03-22T08:12:45.269307Z",
          "start_time": "2023-03-22T08:12:42.211096Z"
        },
        "id": "726b48b8",
        "outputId": "fbbca03f-2d46-4ee0-deda-956b581a4f5d"
      },
      "outputs": [
        {
          "name": "stderr",
          "output_type": "stream",
          "text": [
            "C:\\Users\\Samuel Amrich\\anaconda3\\lib\\site-packages\\dash_bootstrap_components\\_table.py:5: UserWarning: \n",
            "The dash_html_components package is deprecated. Please replace\n",
            "`import dash_html_components as html` with `from dash import html`\n",
            "  import dash_html_components as html\n"
          ]
        }
      ],
      "source": [
        "# Import vsetkych prerequisities\n",
        "from requirements import *\n",
        "\n",
        "# Import vlastnej kniznice\n",
        "from AIMS_LS_library import *"
      ]
    },
    {
      "cell_type": "markdown",
      "id": "d288c882",
      "metadata": {
        "id": "d288c882"
      },
      "source": [
        "# Nastanenie grafiky a iných\n",
        "Načítaním z config súborov"
      ]
    },
    {
      "cell_type": "code",
      "execution_count": null,
      "id": "c5974e6e",
      "metadata": {
        "ExecuteTime": {
          "end_time": "2023-03-22T08:12:45.285308Z",
          "start_time": "2023-03-22T08:12:45.271307Z"
        },
        "id": "c5974e6e"
      },
      "outputs": [],
      "source": [
        "# Nastavenie farebnosti\n",
        "from config.colours import *\n",
        "\n",
        "# Nastavenie fontov\n",
        "from config.fonts import *\n",
        "\n",
        "# Nastavenie velkosti\n",
        "from config.sizes import *\n",
        "\n",
        "# Nastavenie Casovania\n",
        "from config.timings import *"
      ]
    },
    {
      "cell_type": "markdown",
      "id": "23dcc1bf",
      "metadata": {
        "id": "23dcc1bf"
      },
      "source": [
        "# Startovacie nastavenia"
      ]
    },
    {
      "cell_type": "code",
      "execution_count": null,
      "id": "f6c4d648",
      "metadata": {
        "ExecuteTime": {
          "end_time": "2023-03-22T08:12:45.300568Z",
          "start_time": "2023-03-22T08:12:45.287309Z"
        },
        "id": "f6c4d648"
      },
      "outputs": [],
      "source": [
        "plt.rcParams[\"ytick.right\"] = plt.rcParams[\"ytick.labelright\"] = True\n",
        "plt.rcParams[\"ytick.left\"] = plt.rcParams[\"ytick.labelleft\"] = False\n",
        "plt.rcParams.update({\"font.size\": 50})\n",
        "\n",
        "plt.rcParams.update({\n",
        "    \"figure.facecolor\": (1, 1, 1, 0),\n",
        "    \"axes.facecolor\": (1, 1, 1, 0),\n",
        "    \"savefig.facecolor\": (1, 1, 1, 0),\n",
        "})\n",
        "\n",
        "plt.rcParams[\"text.color\"] = text_colour\n",
        "plt.rcParams[\"axes.labelcolor\"] = text_colour\n",
        "plt.rcParams[\"xtick.color\"] = text_colour\n",
        "plt.rcParams[\"ytick.color\"] = text_colour"
      ]
    },
    {
      "cell_type": "markdown",
      "id": "87d1796f",
      "metadata": {
        "id": "87d1796f"
      },
      "source": [
        "# Vytvorenie DASH prostredia"
      ]
    },
    {
      "cell_type": "code",
      "execution_count": null,
      "id": "96b9733e",
      "metadata": {
        "ExecuteTime": {
          "end_time": "2023-03-22T08:12:45.315782Z",
          "start_time": "2023-03-22T08:12:45.302573Z"
        },
        "id": "96b9733e"
      },
      "outputs": [],
      "source": [
        "app = dash.Dash(__name__, external_stylesheets=[dbc.themes.BOOTSTRAP])"
      ]
    },
    {
      "cell_type": "markdown",
      "id": "0989bb11",
      "metadata": {
        "id": "0989bb11"
      },
      "source": [
        "# Vytvorenie blokov\n",
        "\n",
        "Predpŕiprava layout-u pre DASH, kde sa povie kde sa čo nachádza a aké parametre (veľkosť, farbu, a pod.) to má mať."
      ]
    },
    {
      "cell_type": "code",
      "execution_count": null,
      "id": "367f0f10",
      "metadata": {
        "ExecuteTime": {
          "end_time": "2023-03-22T08:12:45.330484Z",
          "start_time": "2023-03-22T08:12:45.317729Z"
        },
        "id": "367f0f10"
      },
      "outputs": [],
      "source": [
        "# 0 - 0\n",
        "\n",
        "blok_0_0 = [\n",
        "    dcc.Graph(\n",
        "        id=\"graph_0_0\",  #animate=True,\n",
        "        responsive=True,\n",
        "        style={\n",
        "            \"height\": \"30vh\",\n",
        "            \"width\": \"60vw\"\n",
        "        })\n",
        "]"
      ]
    },
    {
      "cell_type": "code",
      "execution_count": null,
      "id": "6e56cfdf",
      "metadata": {
        "ExecuteTime": {
          "end_time": "2023-03-22T08:12:45.346633Z",
          "start_time": "2023-03-22T08:12:45.331442Z"
        },
        "id": "6e56cfdf"
      },
      "outputs": [],
      "source": [
        "# 1 - 0\n",
        "\n",
        "blok_1_0 = [\n",
        "    html.Img(id=\"graph_1_0\", style={\"height\": \"26vh\"}),\n",
        "    html.P(id=\"text_1_0\",\n",
        "           style={\n",
        "               \"width\": \"100%\",\n",
        "               \"height\": \"4vh\",\n",
        "               \"background-color\": blok_pozadie,\n",
        "               \"color\": text_colour,\n",
        "               \"fontSize\": text_velkost,\n",
        "               \"textAlign\": \"center\",\n",
        "               \"family\": graf_text_font\n",
        "           })\n",
        "]"
      ]
    },
    {
      "cell_type": "code",
      "execution_count": null,
      "id": "331f15e8",
      "metadata": {
        "ExecuteTime": {
          "end_time": "2023-03-22T08:12:45.361767Z",
          "start_time": "2023-03-22T08:12:45.347588Z"
        },
        "id": "331f15e8"
      },
      "outputs": [],
      "source": [
        "# 0 - 1\n",
        "\n",
        "blok_0_1 = [\n",
        "    html.Img(id=\"graph_0_1\", style={\"height\": \"26vh\"}),\n",
        "    html.P(id=\"text_0_1\",\n",
        "           style={\n",
        "               \"width\": \"100%\",\n",
        "               \"height\": \"4vh\",\n",
        "               \"background-color\": blok_pozadie,\n",
        "               \"color\": text_colour,\n",
        "               \"fontSize\": text_velkost,\n",
        "               \"textAlign\": \"center\",\n",
        "               \"family\": graf_text_font\n",
        "           })\n",
        "]"
      ]
    },
    {
      "cell_type": "code",
      "execution_count": null,
      "id": "f2bdaf7a",
      "metadata": {
        "ExecuteTime": {
          "end_time": "2023-03-22T08:12:45.377387Z",
          "start_time": "2023-03-22T08:12:45.365845Z"
        },
        "id": "f2bdaf7a"
      },
      "outputs": [],
      "source": [
        "# 1 - 1\n",
        "\n",
        "blok_1_1 = [\n",
        "    html.Img(id=\"img_1_1\", style={\"height\": \"26vh\"}),\n",
        "    html.Img(id=\"graph_1_1\", style={\"height\": \"26vh\"}),\n",
        "    html.P(id=\"text_1_1\",\n",
        "           style={\n",
        "               \"width\": \"100%\",\n",
        "               \"height\": \"4vh\",\n",
        "               \"background-color\": blok_pozadie,\n",
        "               \"color\": text_colour,\n",
        "               \"fontSize\": text_velkost,\n",
        "               \"textAlign\": \"center\",\n",
        "               \"family\": graf_text_font\n",
        "           })\n",
        "]"
      ]
    },
    {
      "cell_type": "code",
      "execution_count": null,
      "id": "7370c618",
      "metadata": {
        "ExecuteTime": {
          "end_time": "2023-03-22T08:12:45.392522Z",
          "start_time": "2023-03-22T08:12:45.379386Z"
        },
        "id": "7370c618"
      },
      "outputs": [],
      "source": [
        "# 2 - 1\n",
        "\n",
        "blok_2_1 = [\n",
        "    html.Img(id=\"img_2_1\",\n",
        "             style={\n",
        "                 \"height\": \"26vh\",\n",
        "                 \"textAlign\": \"center\",\n",
        "                 \"marginLeft\": \"auto\",\n",
        "                 \"marginRight\": \"auto\"\n",
        "             }),\n",
        "    html.P(id=\"text_2_1\",\n",
        "           style={\n",
        "               \"width\": \"30vw\",\n",
        "               \"height\": \"4vh\",\n",
        "               \"background-color\": blok_pozadie,\n",
        "               \"color\": text_colour,\n",
        "               \"fontSize\": text_velkost,\n",
        "               \"textAlign\": \"center\",\n",
        "               \"family\": graf_text_font\n",
        "           })\n",
        "]"
      ]
    },
    {
      "cell_type": "code",
      "execution_count": null,
      "id": "ab755295",
      "metadata": {
        "ExecuteTime": {
          "end_time": "2023-03-22T08:12:45.407194Z",
          "start_time": "2023-03-22T08:12:45.394522Z"
        },
        "id": "ab755295"
      },
      "outputs": [],
      "source": [
        "# 0 - 2\n",
        "\n",
        "blok_0_2 = [\n",
        "    html.Img(id=\"img_0_2_0\",\n",
        "             style={\n",
        "                 \"width\": \"15vw\",\n",
        "                 \"height\": \"26vh\",\n",
        "                 \"background-color\": blok_pozadie\n",
        "             }),\n",
        "    html.Img(id=\"img_0_2_1\",\n",
        "             style={\n",
        "                 \"width\": \"15vw\",\n",
        "                 \"height\": \"26vh\",\n",
        "                 \"background-color\": blok_pozadie\n",
        "             }),\n",
        "    html.P(id=\"text_0_2\",\n",
        "           style={\n",
        "               \"width\": \"30vw\",\n",
        "               \"height\": \"4vh\",\n",
        "               \"background-color\": blok_pozadie,\n",
        "               \"color\": text_colour,\n",
        "               \"fontSize\": text_velkost,\n",
        "               \"textAlign\": \"center\",\n",
        "               \"family\": graf_text_font\n",
        "           })\n",
        "]"
      ]
    },
    {
      "cell_type": "code",
      "execution_count": null,
      "id": "686481ae",
      "metadata": {
        "ExecuteTime": {
          "end_time": "2023-03-22T08:12:45.422843Z",
          "start_time": "2023-03-22T08:12:45.409150Z"
        },
        "id": "686481ae"
      },
      "outputs": [],
      "source": [
        "# 1 - 2\n",
        "\n",
        "blok_1_2 = [\n",
        "    html.Img(id=\"img_1_2_0\",\n",
        "             style={\n",
        "                 \"width\": \"15vw\",\n",
        "                 \"height\": \"26vh\",\n",
        "                 \"background-color\": blok_pozadie\n",
        "             }),\n",
        "    html.Img(id=\"img_1_2_1\",\n",
        "             style={\n",
        "                 \"width\": \"15vw\",\n",
        "                 \"height\": \"26vh\",\n",
        "                 \"background-color\": blok_pozadie\n",
        "             }),\n",
        "    html.P(id=\"text_1_2\",\n",
        "           style={\n",
        "               \"width\": \"30vw\",\n",
        "               \"height\": \"4vh\",\n",
        "               \"background-color\": blok_pozadie,\n",
        "               \"color\": text_colour,\n",
        "               \"fontSize\": text_velkost,\n",
        "               \"textAlign\": \"center\",\n",
        "               \"family\": graf_text_font\n",
        "           })\n",
        "]"
      ]
    },
    {
      "cell_type": "code",
      "execution_count": null,
      "id": "39fb1ff0",
      "metadata": {
        "ExecuteTime": {
          "end_time": "2023-03-22T08:12:45.438493Z",
          "start_time": "2023-03-22T08:12:45.423843Z"
        },
        "id": "39fb1ff0"
      },
      "outputs": [],
      "source": [
        "# 2 - 2\n",
        "\n",
        "blok_2_2 = [\n",
        "    html.Img(id=\"img_2_2_0\",\n",
        "             style={\n",
        "                 \"width\": \"15vw\",\n",
        "                 \"height\": \"30vh\",\n",
        "                 \"textAlign\": \"center\"\n",
        "             }),\n",
        "    html.Img(id=\"img_2_2_1\",\n",
        "             style={\n",
        "                 \"width\": \"15vw\",\n",
        "                 \"height\": \"30vh\",\n",
        "                 \"textAlign\": \"center\"\n",
        "             }),\n",
        "]"
      ]
    },
    {
      "cell_type": "markdown",
      "id": "137a5a1a",
      "metadata": {
        "id": "137a5a1a"
      },
      "source": [
        "# Spustenie DASH aplikácie\n",
        "Bloky sa pushnu do DASH-u. Taktiež sa tomu nastavia vlastnosti ako poloha, veľkosť, farebnosť a pod."
      ]
    },
    {
      "cell_type": "code",
      "execution_count": null,
      "id": "ef60a318",
      "metadata": {
        "ExecuteTime": {
          "end_time": "2023-03-22T08:12:45.453969Z",
          "start_time": "2023-03-22T08:12:45.440451Z"
        },
        "id": "ef60a318"
      },
      "outputs": [],
      "source": [
        "app.layout = html.Div([  # zakladny DIV v ktorom su 4 podDIVy - TIMER, PAGE 1, PAGE 2, PAGE 3\n",
        "\n",
        "# TIMER - to bude neviditelny blok (iba na test, potom prepisat \"display\":  \"none\",)\n",
        "\n",
        "    html.Div([\n",
        "        html.Div(id='latest-timestamp', style={\"padding\": \"20px\"}),\n",
        "        dcc.Interval(\n",
        "            id='interval-component2',\n",
        "            interval=5 * 1000,  # alebo prepisat na  - interval=Dash_Interval,\n",
        "            # n_intervals=0\n",
        "        )\n",
        "    ], id=\"timer\",\n",
        "    style={\n",
        "        \"display\":  \"block\",   # prepisat \"display\":  \"none\"\n",
        "        \"background\": uplne_pozadie,\n",
        "        \"color\": text_colour,\n",
        "        \"height\": \"5vh\",\n",
        "        \"width\": \"100vw\"\n",
        "    }),\n",
        "\n",
        "\n",
        "# PAGE 1 layouut - viditelny hned pri spusteni\n",
        "\n",
        "    html.Div(\n",
        "    [\n",
        "        dcc.Interval(\n",
        "            id='interval-component',\n",
        "            interval=Dash_Interval,  # in milliseconds\n",
        "            n_intervals=0),\n",
        "        dbc.Row(style={\"height\": \"2.5vh\"}),\n",
        "        dbc.Row(\n",
        "            [\n",
        "                dbc.Col(\n",
        "                    html.Div(blok_0_0,\n",
        "                             style={\n",
        "                                 \"background-color\": blok_pozadie,\n",
        "                                 \"height\": \"30vh\",\n",
        "                                 \"width\": \"65vw\"\n",
        "                             }),  # \" 0 - 0 \", \n",
        "                    align=\"center\",\n",
        "                    width=8,\n",
        "                ),\n",
        "                dbc.Col(\n",
        "                    html.Div(blok_1_0,\n",
        "                             style={\n",
        "                                 \"background-color\": blok_pozadie,\n",
        "                                 \"height\": \"30vh\",\n",
        "                                 \"width\": \"30vw\"\n",
        "                             }),  # \" 1 - 0 \", \n",
        "                    align=\"center\",\n",
        "                    width=4,\n",
        "                ),\n",
        "            ],\n",
        "            align=\"center\",\n",
        "            justify=\"evenly\",\n",
        "        ),\n",
        "        dbc.Row(style={\"height\": \"2.5vh\"}),\n",
        "        dbc.Row(\n",
        "            [\n",
        "                dbc.Col(\n",
        "                    html.Div(blok_0_1,\n",
        "                             style={\n",
        "                                 \"background-color\": blok_pozadie,\n",
        "                                 \"height\": \"30vh\",\n",
        "                                 \"width\": \"30vw\"\n",
        "                             }),  # \" 0 - 1 \", \n",
        "                    align=\"center\",\n",
        "                    width=4,\n",
        "                ),\n",
        "                dbc.Col(\n",
        "                    html.Div(blok_1_1,\n",
        "                             style={\n",
        "                                 \"background-color\": blok_pozadie,\n",
        "                                 \"height\": \"30vh\",\n",
        "                                 \"width\": \"30vw\"\n",
        "                             }),  # \" 1 - 1 \", \n",
        "                    align=\"center\",\n",
        "                    width=4,\n",
        "                ),\n",
        "                dbc.Col(\n",
        "                    html.Div(blok_2_1,\n",
        "                             style={\n",
        "                                 \"background-color\": blok_pozadie,\n",
        "                                 \"height\": \"30vh\",\n",
        "                                 \"width\": \"30vw\"\n",
        "                             }),  # \" 2 - 1 \", \n",
        "                    align=\"center\",\n",
        "                    width=4,\n",
        "                ),\n",
        "            ],\n",
        "            align=\"center\",\n",
        "            justify=\"evenly\",\n",
        "        ),\n",
        "        dbc.Row(style={\"height\": \"2.5vh\"}),\n",
        "        dbc.Row(\n",
        "            [\n",
        "                dbc.Col(\n",
        "                    html.Div(blok_0_2,\n",
        "                             style={\n",
        "                                 \"background-color\": blok_pozadie,\n",
        "                                 \"height\": \"30vh\",\n",
        "                                 \"width\": \"30vw\"\n",
        "                             }),  #\" 0 - 2 \", \n",
        "                    align=\"center\",\n",
        "                    width=4,\n",
        "                ),\n",
        "                dbc.Col(\n",
        "                    html.Div(blok_1_2,\n",
        "                             style={\n",
        "                                 \"background-color\": blok_pozadie,\n",
        "                                 \"height\": \"30vh\",\n",
        "                                 \"width\": \"30vw\"\n",
        "                             }),  # \" 1 - 2 \", \n",
        "                    align=\"center\",\n",
        "                    width=4,\n",
        "                ),\n",
        "                dbc.Col(\n",
        "                    html.Div(blok_2_2,\n",
        "                             style={\n",
        "                                 \"background-color\": blok_pozadie,\n",
        "                                 \"height\": \"30vh\",\n",
        "                                 \"width\": \"30vw\"\n",
        "                             }),  # \" 2 - 2 \", \n",
        "                    align=\"center\",\n",
        "                    width=4,\n",
        "                ),\n",
        "            ],\n",
        "            align=\"center\",\n",
        "            justify=\"evenly\",\n",
        "        )\n",
        "    ], id=\"page1\",\n",
        "    style={\n",
        "        \"display\":  \"block\",\n",
        "        \"background\": uplne_pozadie,\n",
        "        \"height\": \"100vh\",\n",
        "        \"width\": \"100vw\"\n",
        "    }),\n",
        "\n",
        "# PAGE 2 .. upravit podla potreby\n",
        "html.Div([\n",
        "    html.H1(\"PAGE2\"),\n",
        "    html.H1(\"Upravit podla potreby... Text , video, info, graphs, etc.\"),\n",
        "\n",
        "], id='page2', style={'display': 'none',\n",
        "                      \"background\": uplne_pozadie,\n",
        "                      \"color\": text_colour,\n",
        "                      \"height\": \"100vh\",\n",
        "                      \"width\": \"100vw\"}),\n",
        "\n",
        "# PAGE 3 .. upravit podla potreby\n",
        "html.Div([\n",
        "    html.H1(\"PAGE3\"),\n",
        "    dcc.Graph(id='graph3', style={'display': 'none'}),\n",
        "    html.H1(\"Upravit podla potreby\")\n",
        "\n",
        "], id='page3', style={'display': 'block',\n",
        "                      \"background\": uplne_pozadie,\n",
        "                      \"color\": text_colour,\n",
        "                      \"height\": \"100vh\",\n",
        "                      \"width\": \"100vw\"})\n",
        "\n",
        "# koniec zakladneho DIVu\n",
        "\n",
        "],id='container',\n",
        "style={\n",
        "        \"background\": uplne_pozadie,\n",
        "        \"color\": text_colour,\n",
        "        \"height\": \"100vh\",\n",
        "        \"width\": \"100vw\"}\n",
        ")\n",
        "\n",
        "# Ked to funguje tak spodny kod zmazat\n",
        "\n",
        "# app.layout = html.Div(\n",
        "#     [\n",
        "#         dcc.Interval(\n",
        "#             id='interval-component',\n",
        "#             interval=Dash_Interval,  # in milliseconds\n",
        "#             n_intervals=0),\n",
        "#         dbc.Row(style={\"height\": \"2.5vh\"}),\n",
        "#         dbc.Row(\n",
        "#             [\n",
        "#                 dbc.Col(\n",
        "#                     html.Div(blok_0_0,\n",
        "#                              style={\n",
        "#                                  \"background-color\": blok_pozadie,\n",
        "#                                  \"height\": \"30vh\",\n",
        "#                                  \"width\": \"65vw\"\n",
        "#                              }),  # \" 0 - 0 \", \n",
        "#                     align=\"center\",\n",
        "#                     width=8,\n",
        "#                 ),\n",
        "#                 dbc.Col(\n",
        "#                     html.Div(blok_1_0,\n",
        "#                              style={\n",
        "#                                  \"background-color\": blok_pozadie,\n",
        "#                                  \"height\": \"30vh\",\n",
        "#                                  \"width\": \"30vw\"\n",
        "#                              }),  # \" 1 - 0 \", \n",
        "#                     align=\"center\",\n",
        "#                     width=4,\n",
        "#                 ),\n",
        "#             ],\n",
        "#             align=\"center\",\n",
        "#             justify=\"evenly\",\n",
        "#         ),\n",
        "#         dbc.Row(style={\"height\": \"2.5vh\"}),\n",
        "#         dbc.Row(\n",
        "#             [\n",
        "#                 dbc.Col(\n",
        "#                     html.Div(blok_0_1,\n",
        "#                              style={\n",
        "#                                  \"background-color\": blok_pozadie,\n",
        "#                                  \"height\": \"30vh\",\n",
        "#                                  \"width\": \"30vw\"\n",
        "#                              }),  # \" 0 - 1 \", \n",
        "#                     align=\"center\",\n",
        "#                     width=4,\n",
        "#                 ),\n",
        "#                 dbc.Col(\n",
        "#                     html.Div(blok_1_1,\n",
        "#                              style={\n",
        "#                                  \"background-color\": blok_pozadie,\n",
        "#                                  \"height\": \"30vh\",\n",
        "#                                  \"width\": \"30vw\"\n",
        "#                              }),  # \" 1 - 1 \", \n",
        "#                     align=\"center\",\n",
        "#                     width=4,\n",
        "#                 ),\n",
        "#                 dbc.Col(\n",
        "#                     html.Div(blok_2_1,\n",
        "#                              style={\n",
        "#                                  \"background-color\": blok_pozadie,\n",
        "#                                  \"height\": \"30vh\",\n",
        "#                                  \"width\": \"30vw\"\n",
        "#                              }),  # \" 2 - 1 \", \n",
        "#                     align=\"center\",\n",
        "#                     width=4,\n",
        "#                 ),\n",
        "#             ],\n",
        "#             align=\"center\",\n",
        "#             justify=\"evenly\",\n",
        "#         ),\n",
        "#         dbc.Row(style={\"height\": \"2.5vh\"}),\n",
        "#         dbc.Row(\n",
        "#             [\n",
        "#                 dbc.Col(\n",
        "#                     html.Div(blok_0_2,\n",
        "#                              style={\n",
        "#                                  \"background-color\": blok_pozadie,\n",
        "#                                  \"height\": \"30vh\",\n",
        "#                                  \"width\": \"30vw\"\n",
        "#                              }),  #\" 0 - 2 \", \n",
        "#                     align=\"center\",\n",
        "#                     width=4,\n",
        "#                 ),\n",
        "#                 dbc.Col(\n",
        "#                     html.Div(blok_1_2,\n",
        "#                              style={\n",
        "#                                  \"background-color\": blok_pozadie,\n",
        "#                                  \"height\": \"30vh\",\n",
        "#                                  \"width\": \"30vw\"\n",
        "#                              }),  # \" 1 - 2 \", \n",
        "#                     align=\"center\",\n",
        "#                     width=4,\n",
        "#                 ),\n",
        "#                 dbc.Col(\n",
        "#                     html.Div(blok_2_2,\n",
        "#                              style={\n",
        "#                                  \"background-color\": blok_pozadie,\n",
        "#                                  \"height\": \"30vh\",\n",
        "#                                  \"width\": \"30vw\"\n",
        "#                              }),  # \" 2 - 2 \", \n",
        "#                     align=\"center\",\n",
        "#                     width=4,\n",
        "#                 ),\n",
        "#             ],\n",
        "#             align=\"center\",\n",
        "#             justify=\"evenly\",\n",
        "#         )\n",
        "#     ],\n",
        "#     style={\n",
        "#         \"background\": uplne_pozadie,\n",
        "#         \"height\": \"100vh\",\n",
        "#         \"width\": \"100vw\"\n",
        "#     })"
      ]
    },
    {
      "cell_type": "markdown",
      "id": "b62c422e",
      "metadata": {
        "id": "b62c422e"
      },
      "source": [
        "# Delené funkcie\n",
        "Vytvorenie callback-u na obnovu DASH-u. Funkcie ktoré načítajú parquet a vytvoria grafiky, obrázky, grafy a texty. "
      ]
    },
    {
      "cell_type": "code",
      "execution_count": null,
      "id": "fe4f5d2c",
      "metadata": {
        "ExecuteTime": {
          "end_time": "2023-03-22T08:12:45.469966Z",
          "start_time": "2023-03-22T08:12:45.455968Z"
        },
        "id": "fe4f5d2c"
      },
      "outputs": [],
      "source": [
        "# 0 - 0 DEMAND\n",
        "\n",
        "\n",
        "def update_0_0(n, Time=None, Neutron_monitor=None):\n",
        "\n",
        "    fig_0_0 = go.Figure()\n",
        "\n",
        "    fig_0_0.layout = {\n",
        "        \"width\": 580,\n",
        "        \"height\": 315,\n",
        "        \"title\": {\n",
        "            \"text\": \"Meranie NEUTRON\",\n",
        "            \"y\": 0.95,\n",
        "            \"x\": 0.5,\n",
        "            \"xanchor\": \"center\",\n",
        "            \"yanchor\": \"top\",\n",
        "            \"font\": {\n",
        "                \"color\": graf_nazov,\n",
        "                \"size\": graf_nazov_velkost,\n",
        "                \"family\": graf_text_font\n",
        "            }\n",
        "        },\n",
        "        \"template\": \"simple_white\",\n",
        "        \"plot_bgcolor\": blok_pozadie,\n",
        "        \"paper_bgcolor\": blok_pozadie,\n",
        "        \"margin\": {\n",
        "            \"l\": 20,\n",
        "            \"r\": 20,\n",
        "            \"t\": 20,\n",
        "            \"b\": 20\n",
        "        },\n",
        "        \"showlegend\": True,\n",
        "        \"legend\": {\n",
        "            \"x\": 0,\n",
        "            \"y\": 1,\n",
        "            \"bgcolor\": graf_legend_pozadie,\n",
        "            \"bordercolor\": graf_legend_okraj,\n",
        "            \"borderwidth\": 1,\n",
        "            \"font\": {\n",
        "                \"family\": graf_text_font,\n",
        "                \"size\": graf_legenda_velkost,\n",
        "                \"color\": graf_legend_text\n",
        "            }\n",
        "        },\n",
        "        \"xaxis\": {\n",
        "            \"color\": graf_os_text,\n",
        "            \"linecolor\": graf_os,\n",
        "            \"title\": \"Čas\",\n",
        "            \"ticklen\": 5,\n",
        "            \"zeroline\": False,\n",
        "            \"rangeslider\": {\n",
        "                \"visible\": False\n",
        "            },\n",
        "            \"tickfont\": {\n",
        "                \"color\": graf_os,\n",
        "                \"size\": graf_os_velkost,\n",
        "                \"family\": graf_text_font\n",
        "            },\n",
        "            \"titlefont\": {\n",
        "                \"color\": graf_os,\n",
        "                \"size\": graf_os_velkost,\n",
        "                \"family\": graf_text_font\n",
        "            }\n",
        "        },\n",
        "        \"yaxis\": {\n",
        "            \"color\": graf_os_text,\n",
        "            \"linecolor\": graf_os,\n",
        "            \"title\": \"Hustota neutrónov\",\n",
        "            \"ticklen\": 5,\n",
        "            \"zeroline\": False,\n",
        "            \"tickfont\": {\n",
        "                \"color\": graf_os,\n",
        "                \"size\": graf_os_velkost,\n",
        "                \"family\": graf_text_font\n",
        "            },\n",
        "            \"titlefont\": {\n",
        "                \"color\": graf_os,\n",
        "                \"size\": graf_os_velkost,\n",
        "                \"family\": graf_text_font\n",
        "            }\n",
        "        },\n",
        "    }\n",
        "\n",
        "    fig_0_0.add_trace(\n",
        "        go.Scatter(\n",
        "            x=Time,\n",
        "            y=Neutron_monitor,\n",
        "            line={\n",
        "                \"color\": graf_seria1,\n",
        "                \"width\": 1,\n",
        "                \"dash\": \"solid\",\n",
        "            },\n",
        "            mode=\"lines\",\n",
        "            name=\"NEUTRON\",\n",
        "            marker={\"color\": graf_seria1},\n",
        "        ))\n",
        "\n",
        "    return fig_0_0"
      ]
    },
    {
      "cell_type": "code",
      "execution_count": null,
      "id": "e0582c27",
      "metadata": {
        "ExecuteTime": {
          "end_time": "2023-03-22T08:12:45.484967Z",
          "start_time": "2023-03-22T08:12:45.471966Z"
        },
        "id": "e0582c27"
      },
      "outputs": [],
      "source": [
        "# 1 - 0 DEMAND\n",
        "\n",
        "\n",
        "def update_1_0(n, Boltek_EF=None):\n",
        "\n",
        "    fig, ax = plt.subplots(figsize=(8.18, 22.88))\n",
        "    bar = ax.bar(\" \", Boltek_EF, width=0.5, align=\"edge\")\n",
        "    ax.set_ylim([0, 250_000])\n",
        "    ax.spines[\"top\"].set_visible(False)\n",
        "    ax.spines[\"right\"].set_visible(False)\n",
        "    ax.spines[\"bottom\"].set_visible(False)\n",
        "    ax.spines[\"left\"].set_visible(False)\n",
        "    ax.get_xaxis().set_visible(False)\n",
        "    plt.locator_params(axis=\"y\", nbins=5)\n",
        "    ax.yaxis.set_minor_locator(AutoMinorLocator(10))\n",
        "    ax.tick_params(which=\"major\", length=100, width=20, direction=\"inout\")\n",
        "    ax.tick_params(which=\"minor\", length=25, width=5, direction=\"in\")\n",
        "    bar = gradientbars(bar)\n",
        "    plt.close()\n",
        "\n",
        "    #graph_1_0 = fig2img(fig)\n",
        "    graph_1_0 = fig_to_uri(fig)\n",
        "    text_1_0 = f\" [{Boltek_EF:_} V] \"\n",
        "\n",
        "    return graph_1_0, text_1_0"
      ]
    },
    {
      "cell_type": "code",
      "execution_count": null,
      "id": "b3675ccc",
      "metadata": {
        "ExecuteTime": {
          "end_time": "2023-03-22T08:12:45.500967Z",
          "start_time": "2023-03-22T08:12:45.485984Z"
        },
        "run_control": {
          "marked": false
        },
        "id": "b3675ccc"
      },
      "outputs": [],
      "source": [
        "# 0 - 1 DEMAND\n",
        "\n",
        "\n",
        "def update_0_1(n, Temperature=None):\n",
        "\n",
        "    fig, ax = plt.subplots(figsize=(8.18, 22.88))\n",
        "    bar = ax.bar(\" \", Temperature, width=0.5, align=\"edge\")\n",
        "    ax.set_ylim([-50, 50])\n",
        "    ax.spines[\"top\"].set_visible(False)\n",
        "    ax.spines[\"right\"].set_visible(False)\n",
        "    ax.spines[\"bottom\"].set_visible(False)\n",
        "    ax.spines[\"left\"].set_visible(False)\n",
        "    ax.get_xaxis().set_visible(False)\n",
        "    plt.locator_params(axis=\"y\", nbins=5)\n",
        "    ax.yaxis.set_minor_locator(AutoMinorLocator(10))\n",
        "    ax.tick_params(which=\"major\", length=100, width=20, direction=\"inout\")\n",
        "    ax.tick_params(which=\"minor\", length=25, width=5, direction=\"in\")\n",
        "    bar = gradientbars(bar)\n",
        "    plt.close()\n",
        "\n",
        "    graph_0_1 = fig2img(fig)\n",
        "    text_0_1 = f\" [{Temperature:_} °C] \"\n",
        "\n",
        "    return graph_0_1, text_0_1"
      ]
    },
    {
      "cell_type": "code",
      "execution_count": null,
      "id": "db3be9ef",
      "metadata": {
        "ExecuteTime": {
          "end_time": "2023-03-22T08:12:45.516488Z",
          "start_time": "2023-03-22T08:12:45.502969Z"
        },
        "run_control": {
          "marked": false
        },
        "id": "db3be9ef"
      },
      "outputs": [],
      "source": [
        "# 1 - 1 DEMAND\n",
        "\n",
        "\n",
        "def update_1_1(n, Wind_speed=None):\n",
        "\n",
        "    fig, ax = plt.subplots(figsize=(8.18, 22.88))\n",
        "    bar = ax.bar(\" \", Wind_speed, width=0.5, align=\"edge\")\n",
        "    ax.set_ylim([0, 100])\n",
        "    ax.spines[\"top\"].set_visible(False)\n",
        "    ax.spines[\"right\"].set_visible(False)\n",
        "    ax.spines[\"bottom\"].set_visible(False)\n",
        "    ax.spines[\"left\"].set_visible(False)\n",
        "    ax.get_xaxis().set_visible(False)\n",
        "    plt.locator_params(axis=\"y\", nbins=5)\n",
        "    ax.yaxis.set_minor_locator(AutoMinorLocator(10))\n",
        "    ax.tick_params(which=\"major\", length=100, width=20, direction=\"inout\")\n",
        "    ax.tick_params(which=\"minor\", length=25, width=5, direction=\"in\")\n",
        "    bar = gradientbars(bar)\n",
        "    plt.close()\n",
        "    graph_1_1 = fig2img(fig)\n",
        "\n",
        "    if -999 < Wind_speed <= 5.5:\n",
        "        img_1_1 = Image.open(\"assets/veterny_tunel_0.png\")\n",
        "    elif 5.5 < Wind_speed <= 11:\n",
        "        img_1_1 = Image.open(\"assets/veterny_tunel_1.png\")\n",
        "    elif 11 < Wind_speed <= 16:\n",
        "        img_1_1 = Image.open(\"assets/veterny_tunel_2.png\")\n",
        "    elif 16 < Wind_speed <= 22:\n",
        "        img_1_1 = Image.open(\"assets/veterny_tunel_3.png\")\n",
        "    else:\n",
        "        img_1_1 = Image.open(\"assets/veterny_tunel_4.png\")\n",
        "\n",
        "    text_1_1 = f\" [ {Wind_speed:_} km/h | {Wind_speed:_} m/s | {Wind_speed:_} uzol ] \"\n",
        "\n",
        "    return img_1_1, graph_1_1, text_1_1"
      ]
    },
    {
      "cell_type": "code",
      "execution_count": null,
      "id": "d0a64b3a",
      "metadata": {
        "ExecuteTime": {
          "end_time": "2023-03-22T08:12:45.532488Z",
          "start_time": "2023-03-22T08:12:45.517489Z"
        },
        "id": "d0a64b3a"
      },
      "outputs": [],
      "source": [
        "# 2 - 1 DEMAND\n",
        "\n",
        "\n",
        "def update_2_1(n, Wind_direction=None):\n",
        "\n",
        "    img_2_1 = Image.open(\"assets/Hora.png\")\n",
        "    draw = ImageDraw.Draw(img_2_1)\n",
        "    draw.polygon(\n",
        "        ((150, 130 - 60), (100, 130 + 60 * np.sin(np.radians(Wind_direction))),\n",
        "         (200, 130 + 60 * np.sin(np.radians(Wind_direction)))),\n",
        "        fill=\"red\",\n",
        "        outline=255)\n",
        "\n",
        "    Wind_direction_temp = int((Wind_direction / 22.5) + .5)\n",
        "    directions = [\n",
        "        \"N\", \"NNE\", \"NE\", \"ENE\", \"E\", \"ESE\", \"SE\", \"SSE\", \"S\", \"SSW\", \"SW\",\n",
        "        \"WSW\", \"W\", \"WNW\", \"NW\", \"NNW\"\n",
        "    ]\n",
        "    smery = [\"S\", \"SV\", \"V\", \"JV\", \"J\", \"JZ\", \"Z\", \"SZ\"]\n",
        "    Wind_direction_dir = directions[(Wind_direction_temp % 16)]\n",
        "    Wind_direction_smer = smery[(Wind_direction_temp % 8)]\n",
        "\n",
        "    text_2_1 = f\" [ {Wind_direction:_} ° | {Wind_direction_smer} | {Wind_direction_dir} ] \"\n",
        "\n",
        "    return img_2_1, text_2_1"
      ]
    },
    {
      "cell_type": "code",
      "execution_count": null,
      "id": "314a70bd",
      "metadata": {
        "ExecuteTime": {
          "end_time": "2023-03-22T08:12:45.548489Z",
          "start_time": "2023-03-22T08:12:45.534489Z"
        },
        "id": "314a70bd"
      },
      "outputs": [],
      "source": [
        "# 0 - 2 DEMAND\n",
        "\n",
        "\n",
        "def update_0_2(n, Pressure=None, Humidity=None):\n",
        "\n",
        "    Pressure_angle = np.radians((Pressure - 100) * 60)\n",
        "    img_0_2_0 = Image.open(\"assets/Tlakomer.png\")\n",
        "    draw_0_2_0 = ImageDraw.Draw(img_0_2_0)\n",
        "    draw_0_2_0.polygon(((361 - 250 * np.cos(Pressure_angle),\n",
        "                         361 - 250 * np.sin(Pressure_angle)), (361 - 20, 365),\n",
        "                        (361 + 20, 355)),\n",
        "                       fill=\"white\",\n",
        "                       outline=255)\n",
        "\n",
        "    Humidity_angle = np.radians((Humidity - 25))\n",
        "    img_0_2_1 = Image.open(\"assets/Vlhkomer.png\")\n",
        "    draw_0_2_1 = ImageDraw.Draw(img_0_2_1)\n",
        "    draw_0_2_1.polygon(((361 - 250 * np.cos(Humidity_angle),\n",
        "                         361 - 250 * np.sin(Humidity_angle)), (361 - 20, 365),\n",
        "                        (361 + 20, 355)),\n",
        "                       fill=\"white\",\n",
        "                       outline=255)\n",
        "\n",
        "    text_0_2 = f\" [ {Pressure:_} Kps | {Humidity:_} %] \"\n",
        "\n",
        "    return img_0_2_0, img_0_2_1, text_0_2"
      ]
    },
    {
      "cell_type": "code",
      "execution_count": null,
      "id": "82e258b4",
      "metadata": {
        "ExecuteTime": {
          "end_time": "2023-03-22T08:12:45.564005Z",
          "start_time": "2023-03-22T08:12:45.551492Z"
        },
        "id": "82e258b4"
      },
      "outputs": [],
      "source": [
        "# 1 - 2 DEMAND\n",
        "\n",
        "\n",
        "def update_1_2(n, Solar_radiation=None):\n",
        "\n",
        "    text_1_2 = f\" [ {Solar_radiation:_} W/m^2 ]    [ {Solar_radiation:_} W] \"\n",
        "\n",
        "    return text_1_2"
      ]
    },
    {
      "cell_type": "code",
      "execution_count": null,
      "id": "733be3ed",
      "metadata": {
        "ExecuteTime": {
          "end_time": "2023-03-22T08:12:45.580003Z",
          "start_time": "2023-03-22T08:12:45.566002Z"
        },
        "run_control": {
          "marked": false
        },
        "id": "733be3ed"
      },
      "outputs": [],
      "source": [
        "# 2 - 2 TO Delete\n",
        "\n",
        "\n",
        "def update_2_2(n):\n",
        "\n",
        "    img_2_2_0 = Image.open(\"assets/logo_UEF.png\")\n",
        "    img_2_2_1 = Image.open(\"assets/logo_SAV.png\")\n",
        "\n",
        "    return img_2_2_0, img_2_2_1"
      ]
    },
    {
      "cell_type": "code",
      "execution_count": null,
      "id": "641c6b3e",
      "metadata": {
        "ExecuteTime": {
          "end_time": "2023-03-22T08:12:45.610554Z",
          "start_time": "2023-03-22T08:12:45.582004Z"
        },
        "id": "641c6b3e"
      },
      "outputs": [],
      "source": [
        "# ALL\n",
        "\n",
        "\n",
        "@app.callback([\n",
        "    Output(\"graph_0_0\", 'figure'),\n",
        "    Output(\"graph_1_0\", 'src'),\n",
        "    Output(\"text_1_0\", 'children'),\n",
        "    Output(\"graph_0_1\", 'src'),\n",
        "    Output(\"text_0_1\", 'children'),\n",
        "    Output(\"img_1_1\", 'src'),\n",
        "    Output(\"graph_1_1\", 'src'),\n",
        "    Output(\"text_1_1\", 'children'),\n",
        "    Output(\"img_2_1\", 'src'),\n",
        "    Output(\"text_2_1\", 'children'),\n",
        "    Output(\"img_0_2_0\", 'src'),\n",
        "    Output(\"img_0_2_1\", 'src'),\n",
        "    Output(\"text_0_2\", 'children'),\n",
        "    Output(\"text_1_2\", 'children'),\n",
        "    Output(\"img_2_2_0\", 'src'),\n",
        "    Output(\"img_2_2_1\", 'src'),\n",
        "], Input('interval-component', 'n_intervals'))\n",
        "def update_all(n):\n",
        "    dataframe = pd.read_parquet(\"dataframes/dataframe.parquet.gzip\")\n",
        "\n",
        "    Time = dataframe[\"Time\"][0 + 10 * n:100 + 10 * n]  #Vymazat druhu hranatu\n",
        "    Neutron_monitor = dataframe[\"Neutron_monitor\"][10 * n:100 + 10 *\n",
        "                                                   n]  #Vymazat druhu hranatu\n",
        "\n",
        "    Boltek_EF = np.array(dataframe[\"Boltek_EF\"])[n]  #Nahradiť n za -1\n",
        "    Boltek_EF = np.round(Boltek_EF, Boltek_EF_round)\n",
        "\n",
        "    Temperature = np.array(dataframe[\"Temperature\"])[n]  #Nahradiť n za -1\n",
        "    Temperature = np.round(Temperature, Temperature_round)\n",
        "\n",
        "    Wind_speed = np.array(dataframe[\"Wind_speed\"])[n]  #Nahradiť n za -1\n",
        "    Wind_speed = np.round(Wind_speed, Wind_speed_round)\n",
        "\n",
        "    Wind_direction = np.array(\n",
        "        dataframe[\"Wind_direction\"])[n]  #Nahradiť n za -1\n",
        "    Wind_direction = np.round(Wind_direction, Wind_direction_round)\n",
        "\n",
        "    Pressure = np.array(dataframe[\"Pressure\"])[n]  #Nahradiť n za -1\n",
        "    Humidity = np.array(dataframe[\"Humidity\"])[n]  #Nahradiť n za -1\n",
        "    Pressure = np.round(Pressure, Pressure_round)\n",
        "    Humidity = np.round(Humidity, Humidity_round)\n",
        "\n",
        "    Solar_radiation = np.array(\n",
        "        dataframe[\"Solar_radiation\"])[n]  #Nahradiť n za -1\n",
        "    Solar_radiation = np.round(Solar_radiation, Solar_radiation_round)\n",
        "\n",
        "    output = [0 for i in range(16)]\n",
        "\n",
        "    output[0] = update_0_0(n, Time, Neutron_monitor)\n",
        "    output[1], output[2] = update_1_0(n, Boltek_EF)\n",
        "    output[3], output[4] = update_0_1(n, Temperature)\n",
        "    output[5], output[6], output[7] = update_1_1(n, Wind_speed)\n",
        "    output[8], output[9] = update_2_1(n, Wind_direction)\n",
        "    output[10], output[11], output[12] = update_0_2(n, Pressure, Humidity)\n",
        "    output[13] = update_1_2(n, Solar_radiation)\n",
        "    output[14], output[15] = update_2_2(n)\n",
        "\n",
        "    return output"
      ]
    },
    {
      "cell_type": "code",
      "source": [
        "# update DIVov podla timera\n",
        "\n",
        "@app.callback(\n",
        "    [Output(component_id='latest-timestamp', component_property='children'),\n",
        "     Output(component_id='page1', component_property='style'),\n",
        "     Output(component_id='page2', component_property='style'),\n",
        "     Output(component_id='page3', component_property='style'),\n",
        "     Output('interval-component2', 'n_intervals'),\n",
        "     ],\n",
        "    [Input('interval-component2', 'n_intervals')]\n",
        ")\n",
        "def update_timestamp(n):\n",
        "    if n % 3 == 1:\n",
        "        return [html.Span(f\"{n}counts - active page :1 Last updated: {datetime.datetime.now()}\")], {\n",
        "            'display': 'block'}, {'display': 'none'}, {'display': 'none'}, n\n",
        "    elif n % 3 == 2:\n",
        "        return [html.Span(f\"{n}counts - active page :2 Last updated: {datetime.datetime.now()}\")], {\n",
        "            'display': 'none'}, {'display': 'block'}, {'display': 'none'}, n\n",
        "    else:\n",
        "        return [html.Span(f\"{n}counts - active page :3 Last updated: {datetime.datetime.now()}\")], {\n",
        "            'display': 'none'}, {'display': 'none'}, {'display': 'block'}, n\n",
        "\n",
        "\n"
      ],
      "metadata": {
        "id": "b2nKtxx5Kj6y"
      },
      "id": "b2nKtxx5Kj6y",
      "execution_count": null,
      "outputs": []
    },
    {
      "cell_type": "markdown",
      "id": "66cee28e",
      "metadata": {
        "id": "66cee28e"
      },
      "source": [
        "# Spustenie DASH servera live"
      ]
    },
    {
      "cell_type": "code",
      "execution_count": null,
      "id": "45711c7e",
      "metadata": {
        "ExecuteTime": {
          "start_time": "2023-03-22T08:12:42.207Z"
        },
        "id": "45711c7e",
        "outputId": "bc057485-e690-45c2-ed1c-cd259da12af5"
      },
      "outputs": [
        {
          "name": "stdout",
          "output_type": "stream",
          "text": [
            "Dash is running on http://127.0.0.1:8050/\n",
            "\n",
            " * Serving Flask app \"__main__\" (lazy loading)\n",
            " * Environment: production\n",
            "\u001b[31m   WARNING: This is a development server. Do not use it in a production deployment.\u001b[0m\n",
            "\u001b[2m   Use a production WSGI server instead.\u001b[0m\n",
            " * Debug mode: on\n"
          ]
        }
      ],
      "source": [
        "if __name__ == \"__main__\":\n",
        "    app.run_server(debug=True, use_reloader=False)"
      ]
    },
    {
      "cell_type": "code",
      "execution_count": null,
      "id": "a775b7c3",
      "metadata": {
        "id": "a775b7c3"
      },
      "outputs": [],
      "source": []
    }
  ],
  "metadata": {
    "kernelspec": {
      "display_name": "Python 3 (ipykernel)",
      "language": "python",
      "name": "python3"
    },
    "language_info": {
      "codemirror_mode": {
        "name": "ipython",
        "version": 3
      },
      "file_extension": ".py",
      "mimetype": "text/x-python",
      "name": "python",
      "nbconvert_exporter": "python",
      "pygments_lexer": "ipython3",
      "version": "3.8.11"
    },
    "varInspector": {
      "cols": {
        "lenName": 16,
        "lenType": 16,
        "lenVar": 40
      },
      "kernels_config": {
        "python": {
          "delete_cmd_postfix": "",
          "delete_cmd_prefix": "del ",
          "library": "var_list.py",
          "varRefreshCmd": "print(var_dic_list())"
        },
        "r": {
          "delete_cmd_postfix": ") ",
          "delete_cmd_prefix": "rm(",
          "library": "var_list.r",
          "varRefreshCmd": "cat(var_dic_list()) "
        }
      },
      "position": {
        "height": "765.81px",
        "left": "867.847px",
        "right": "20px",
        "top": "120px",
        "width": "385.498px"
      },
      "types_to_exclude": [
        "module",
        "function",
        "builtin_function_or_method",
        "instance",
        "_Feature"
      ],
      "window_display": false
    },
    "colab": {
      "provenance": []
    }
  },
  "nbformat": 4,
  "nbformat_minor": 5
}